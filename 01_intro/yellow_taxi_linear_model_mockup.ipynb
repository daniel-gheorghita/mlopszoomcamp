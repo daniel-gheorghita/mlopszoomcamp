{
 "cells": [
  {
   "cell_type": "code",
   "execution_count": 1,
   "id": "d698f350",
   "metadata": {},
   "outputs": [],
   "source": [
    "import pandas as pd\n",
    "import os"
   ]
  },
  {
   "cell_type": "code",
   "execution_count": 2,
   "id": "226e593a",
   "metadata": {},
   "outputs": [
    {
     "name": "stdout",
     "output_type": "stream",
     "text": [
      "['yellow_tripdata_2022-01.parquet', 'yellow_tripdata_2022-02.parquet']\n"
     ]
    }
   ],
   "source": [
    "# Global variables\n",
    "DATA_FOLDER = '../data/yellow_taxi'\n",
    "data_files = [f for f in os.listdir(DATA_FOLDER) if os.path.isfile(os.path.join(DATA_FOLDER, f))]\n",
    "print(data_files)"
   ]
  },
  {
   "cell_type": "code",
   "execution_count": 3,
   "id": "b95e8385",
   "metadata": {},
   "outputs": [],
   "source": [
    "df_jan = pd.read_parquet(os.path.join(DATA_FOLDER, data_files[0]))\n",
    "df_feb = pd.read_parquet(os.path.join(DATA_FOLDER, data_files[1]))"
   ]
  },
  {
   "cell_type": "code",
   "execution_count": 4,
   "id": "dc08c524",
   "metadata": {},
   "outputs": [
    {
     "data": {
      "text/html": [
       "<div>\n",
       "<style scoped>\n",
       "    .dataframe tbody tr th:only-of-type {\n",
       "        vertical-align: middle;\n",
       "    }\n",
       "\n",
       "    .dataframe tbody tr th {\n",
       "        vertical-align: top;\n",
       "    }\n",
       "\n",
       "    .dataframe thead th {\n",
       "        text-align: right;\n",
       "    }\n",
       "</style>\n",
       "<table border=\"1\" class=\"dataframe\">\n",
       "  <thead>\n",
       "    <tr style=\"text-align: right;\">\n",
       "      <th></th>\n",
       "      <th>VendorID</th>\n",
       "      <th>tpep_pickup_datetime</th>\n",
       "      <th>tpep_dropoff_datetime</th>\n",
       "      <th>passenger_count</th>\n",
       "      <th>trip_distance</th>\n",
       "      <th>RatecodeID</th>\n",
       "      <th>store_and_fwd_flag</th>\n",
       "      <th>PULocationID</th>\n",
       "      <th>DOLocationID</th>\n",
       "      <th>payment_type</th>\n",
       "      <th>fare_amount</th>\n",
       "      <th>extra</th>\n",
       "      <th>mta_tax</th>\n",
       "      <th>tip_amount</th>\n",
       "      <th>tolls_amount</th>\n",
       "      <th>improvement_surcharge</th>\n",
       "      <th>total_amount</th>\n",
       "      <th>congestion_surcharge</th>\n",
       "      <th>airport_fee</th>\n",
       "    </tr>\n",
       "  </thead>\n",
       "  <tbody>\n",
       "    <tr>\n",
       "      <th>0</th>\n",
       "      <td>1</td>\n",
       "      <td>2022-01-01 00:35:40</td>\n",
       "      <td>2022-01-01 00:53:29</td>\n",
       "      <td>2.0</td>\n",
       "      <td>3.80</td>\n",
       "      <td>1.0</td>\n",
       "      <td>N</td>\n",
       "      <td>142</td>\n",
       "      <td>236</td>\n",
       "      <td>1</td>\n",
       "      <td>14.5</td>\n",
       "      <td>3.0</td>\n",
       "      <td>0.5</td>\n",
       "      <td>3.65</td>\n",
       "      <td>0.0</td>\n",
       "      <td>0.3</td>\n",
       "      <td>21.95</td>\n",
       "      <td>2.5</td>\n",
       "      <td>0.0</td>\n",
       "    </tr>\n",
       "    <tr>\n",
       "      <th>1</th>\n",
       "      <td>1</td>\n",
       "      <td>2022-01-01 00:33:43</td>\n",
       "      <td>2022-01-01 00:42:07</td>\n",
       "      <td>1.0</td>\n",
       "      <td>2.10</td>\n",
       "      <td>1.0</td>\n",
       "      <td>N</td>\n",
       "      <td>236</td>\n",
       "      <td>42</td>\n",
       "      <td>1</td>\n",
       "      <td>8.0</td>\n",
       "      <td>0.5</td>\n",
       "      <td>0.5</td>\n",
       "      <td>4.00</td>\n",
       "      <td>0.0</td>\n",
       "      <td>0.3</td>\n",
       "      <td>13.30</td>\n",
       "      <td>0.0</td>\n",
       "      <td>0.0</td>\n",
       "    </tr>\n",
       "    <tr>\n",
       "      <th>2</th>\n",
       "      <td>2</td>\n",
       "      <td>2022-01-01 00:53:21</td>\n",
       "      <td>2022-01-01 01:02:19</td>\n",
       "      <td>1.0</td>\n",
       "      <td>0.97</td>\n",
       "      <td>1.0</td>\n",
       "      <td>N</td>\n",
       "      <td>166</td>\n",
       "      <td>166</td>\n",
       "      <td>1</td>\n",
       "      <td>7.5</td>\n",
       "      <td>0.5</td>\n",
       "      <td>0.5</td>\n",
       "      <td>1.76</td>\n",
       "      <td>0.0</td>\n",
       "      <td>0.3</td>\n",
       "      <td>10.56</td>\n",
       "      <td>0.0</td>\n",
       "      <td>0.0</td>\n",
       "    </tr>\n",
       "    <tr>\n",
       "      <th>3</th>\n",
       "      <td>2</td>\n",
       "      <td>2022-01-01 00:25:21</td>\n",
       "      <td>2022-01-01 00:35:23</td>\n",
       "      <td>1.0</td>\n",
       "      <td>1.09</td>\n",
       "      <td>1.0</td>\n",
       "      <td>N</td>\n",
       "      <td>114</td>\n",
       "      <td>68</td>\n",
       "      <td>2</td>\n",
       "      <td>8.0</td>\n",
       "      <td>0.5</td>\n",
       "      <td>0.5</td>\n",
       "      <td>0.00</td>\n",
       "      <td>0.0</td>\n",
       "      <td>0.3</td>\n",
       "      <td>11.80</td>\n",
       "      <td>2.5</td>\n",
       "      <td>0.0</td>\n",
       "    </tr>\n",
       "    <tr>\n",
       "      <th>4</th>\n",
       "      <td>2</td>\n",
       "      <td>2022-01-01 00:36:48</td>\n",
       "      <td>2022-01-01 01:14:20</td>\n",
       "      <td>1.0</td>\n",
       "      <td>4.30</td>\n",
       "      <td>1.0</td>\n",
       "      <td>N</td>\n",
       "      <td>68</td>\n",
       "      <td>163</td>\n",
       "      <td>1</td>\n",
       "      <td>23.5</td>\n",
       "      <td>0.5</td>\n",
       "      <td>0.5</td>\n",
       "      <td>3.00</td>\n",
       "      <td>0.0</td>\n",
       "      <td>0.3</td>\n",
       "      <td>30.30</td>\n",
       "      <td>2.5</td>\n",
       "      <td>0.0</td>\n",
       "    </tr>\n",
       "  </tbody>\n",
       "</table>\n",
       "</div>"
      ],
      "text/plain": [
       "   VendorID tpep_pickup_datetime tpep_dropoff_datetime  passenger_count  \\\n",
       "0         1  2022-01-01 00:35:40   2022-01-01 00:53:29              2.0   \n",
       "1         1  2022-01-01 00:33:43   2022-01-01 00:42:07              1.0   \n",
       "2         2  2022-01-01 00:53:21   2022-01-01 01:02:19              1.0   \n",
       "3         2  2022-01-01 00:25:21   2022-01-01 00:35:23              1.0   \n",
       "4         2  2022-01-01 00:36:48   2022-01-01 01:14:20              1.0   \n",
       "\n",
       "   trip_distance  RatecodeID store_and_fwd_flag  PULocationID  DOLocationID  \\\n",
       "0           3.80         1.0                  N           142           236   \n",
       "1           2.10         1.0                  N           236            42   \n",
       "2           0.97         1.0                  N           166           166   \n",
       "3           1.09         1.0                  N           114            68   \n",
       "4           4.30         1.0                  N            68           163   \n",
       "\n",
       "   payment_type  fare_amount  extra  mta_tax  tip_amount  tolls_amount  \\\n",
       "0             1         14.5    3.0      0.5        3.65           0.0   \n",
       "1             1          8.0    0.5      0.5        4.00           0.0   \n",
       "2             1          7.5    0.5      0.5        1.76           0.0   \n",
       "3             2          8.0    0.5      0.5        0.00           0.0   \n",
       "4             1         23.5    0.5      0.5        3.00           0.0   \n",
       "\n",
       "   improvement_surcharge  total_amount  congestion_surcharge  airport_fee  \n",
       "0                    0.3         21.95                   2.5          0.0  \n",
       "1                    0.3         13.30                   0.0          0.0  \n",
       "2                    0.3         10.56                   0.0          0.0  \n",
       "3                    0.3         11.80                   2.5          0.0  \n",
       "4                    0.3         30.30                   2.5          0.0  "
      ]
     },
     "execution_count": 4,
     "metadata": {},
     "output_type": "execute_result"
    }
   ],
   "source": [
    "df_jan.head()"
   ]
  },
  {
   "cell_type": "code",
   "execution_count": 5,
   "id": "8b73ea39",
   "metadata": {},
   "outputs": [
    {
     "name": "stdout",
     "output_type": "stream",
     "text": [
      "VendorID                          int64\n",
      "tpep_pickup_datetime     datetime64[ns]\n",
      "tpep_dropoff_datetime    datetime64[ns]\n",
      "passenger_count                 float64\n",
      "trip_distance                   float64\n",
      "RatecodeID                      float64\n",
      "store_and_fwd_flag               object\n",
      "PULocationID                      int64\n",
      "DOLocationID                      int64\n",
      "payment_type                      int64\n",
      "fare_amount                     float64\n",
      "extra                           float64\n",
      "mta_tax                         float64\n",
      "tip_amount                      float64\n",
      "tolls_amount                    float64\n",
      "improvement_surcharge           float64\n",
      "total_amount                    float64\n",
      "congestion_surcharge            float64\n",
      "airport_fee                     float64\n",
      "dtype: object\n"
     ]
    }
   ],
   "source": [
    "print(df_jan.dtypes)"
   ]
  },
  {
   "cell_type": "code",
   "execution_count": 6,
   "id": "98b7c2e0",
   "metadata": {},
   "outputs": [
    {
     "name": "stdout",
     "output_type": "stream",
     "text": [
      "19\n"
     ]
    }
   ],
   "source": [
    "# Number of columns\n",
    "print(len(df_jan.columns))"
   ]
  },
  {
   "cell_type": "code",
   "execution_count": 7,
   "id": "b6a0ea97",
   "metadata": {},
   "outputs": [
    {
     "data": {
      "text/plain": [
       "56.18570689262747"
      ]
     },
     "execution_count": 7,
     "metadata": {},
     "output_type": "execute_result"
    }
   ],
   "source": [
    "# Duration standard deviation\n",
    "df_jan[\"duration\"] = (df_jan[\"tpep_dropoff_datetime\"] - df_jan[\"tpep_pickup_datetime\"]).dt.seconds / 60\n",
    "df_feb[\"duration\"] = (df_feb[\"tpep_dropoff_datetime\"] - df_feb[\"tpep_pickup_datetime\"]).dt.seconds / 60\n",
    "\n",
    "df_jan[\"duration\"].std()"
   ]
  },
  {
   "cell_type": "code",
   "execution_count": 8,
   "id": "fad0f027",
   "metadata": {},
   "outputs": [
    {
     "name": "stdout",
     "output_type": "stream",
     "text": [
      "2463931 2421031 98.25887981441038\n"
     ]
    }
   ],
   "source": [
    "# Dataset fraction after filtering\n",
    "full_dataset_count = len(df_jan.index)\n",
    "df_jan_filtered = df_jan[(df_jan[\"duration\"] > 1) & (df_jan[\"duration\"] < 60)]\n",
    "df_feb_filtered = df_feb[(df_feb[\"duration\"] > 1) & (df_feb[\"duration\"] < 60)]\n",
    "\n",
    "filtered_dataset_count = len(df_jan_filtered.index)\n",
    "print(full_dataset_count, filtered_dataset_count, (filtered_dataset_count / full_dataset_count) * 100)"
   ]
  },
  {
   "cell_type": "code",
   "execution_count": 30,
   "id": "fd654ad6",
   "metadata": {},
   "outputs": [],
   "source": [
    "# Export dataset as dictionary\n",
    "df_jan_dataset = df_jan_filtered[['PULocationID', 'DOLocationID', 'duration']]\n",
    "duration = df_jan_dataset.pop('duration')\n",
    "dict_df_jan_dataset = df_jan_dataset.to_dict(orient='records')"
   ]
  },
  {
   "cell_type": "code",
   "execution_count": 31,
   "id": "7e558566",
   "metadata": {},
   "outputs": [
    {
     "name": "stdout",
     "output_type": "stream",
     "text": [
      "[{'PULocationID': 142, 'DOLocationID': 236}, {'PULocationID': 236, 'DOLocationID': 42}, {'PULocationID': 166, 'DOLocationID': 166}, {'PULocationID': 114, 'DOLocationID': 68}, {'PULocationID': 68, 'DOLocationID': 163}, {'PULocationID': 138, 'DOLocationID': 161}, {'PULocationID': 233, 'DOLocationID': 87}, {'PULocationID': 238, 'DOLocationID': 152}, {'PULocationID': 166, 'DOLocationID': 236}, {'PULocationID': 236, 'DOLocationID': 141}]\n"
     ]
    }
   ],
   "source": [
    "print(dict_df_jan_dataset[:10])"
   ]
  },
  {
   "cell_type": "code",
   "execution_count": 32,
   "id": "022ea1cd",
   "metadata": {},
   "outputs": [],
   "source": [
    "from sklearn.feature_extraction import DictVectorizer\n",
    "from sklearn.preprocessing import OneHotEncoder\n",
    "import numpy as np"
   ]
  },
  {
   "cell_type": "code",
   "execution_count": 33,
   "id": "294a2f8e",
   "metadata": {},
   "outputs": [],
   "source": [
    "dict_vect = DictVectorizer(sparse=False)\n",
    "one_hot_enc = OneHotEncoder(handle_unknown='ignore')\n",
    "X = dict_vect.fit_transform(dict_df_jan_dataset)\n",
    "X_ohe = one_hot_enc.fit_transform(X)\n",
    "y = duration.to_numpy()"
   ]
  },
  {
   "cell_type": "code",
   "execution_count": 34,
   "id": "487239e1",
   "metadata": {},
   "outputs": [
    {
     "name": "stdout",
     "output_type": "stream",
     "text": [
      "(2421031, 515)\n",
      "(2421031,)\n"
     ]
    }
   ],
   "source": [
    "print(np.shape(X_ohe))\n",
    "print(np.shape(y))"
   ]
  },
  {
   "cell_type": "code",
   "execution_count": 35,
   "id": "4baa1b81",
   "metadata": {},
   "outputs": [],
   "source": [
    "#print(X_ohe)"
   ]
  },
  {
   "cell_type": "code",
   "execution_count": 36,
   "id": "3f08048e",
   "metadata": {},
   "outputs": [
    {
     "data": {
      "text/plain": [
       "0.39714980887624485"
      ]
     },
     "execution_count": 36,
     "metadata": {},
     "output_type": "execute_result"
    }
   ],
   "source": [
    "# Train linear regression model\n",
    "from sklearn.linear_model import LinearRegression\n",
    "model = LinearRegression()\n",
    "model.fit(X_ohe, y)\n",
    "model.score(X_ohe, y)"
   ]
  },
  {
   "cell_type": "code",
   "execution_count": 38,
   "id": "028016a9",
   "metadata": {},
   "outputs": [
    {
     "name": "stdout",
     "output_type": "stream",
     "text": [
      "RMSE training:  6.983871708402315\n"
     ]
    }
   ],
   "source": [
    "from sklearn.metrics import mean_squared_error as mse\n",
    "y_pred = model.predict(X_ohe)\n",
    "print(\"RMSE training: \", np.sqrt(mse(y_pred, y)))"
   ]
  },
  {
   "cell_type": "code",
   "execution_count": 39,
   "id": "5477aced",
   "metadata": {},
   "outputs": [
    {
     "name": "stdout",
     "output_type": "stream",
     "text": [
      "RMSE validation:  7.784441370070872\n"
     ]
    }
   ],
   "source": [
    "# Validate the model\n",
    "df_feb_dataset = df_feb_filtered[['PULocationID', 'DOLocationID', 'duration']]\n",
    "duration = df_feb_dataset.pop('duration')\n",
    "dict_df_feb_dataset = df_feb_dataset.to_dict(orient='records')\n",
    "X_val = dict_vect.transform(dict_df_feb_dataset)\n",
    "X_val_ohe = one_hot_enc.transform(X_val)\n",
    "y_val = duration.to_numpy()\n",
    "y_val_pred = model.predict(X_val_ohe)\n",
    "print(\"RMSE validation: \", np.sqrt(mse(y_val_pred, y_val)))"
   ]
  }
 ],
 "metadata": {
  "kernelspec": {
   "display_name": "Python 3 (ipykernel)",
   "language": "python",
   "name": "python3"
  },
  "language_info": {
   "codemirror_mode": {
    "name": "ipython",
    "version": 3
   },
   "file_extension": ".py",
   "mimetype": "text/x-python",
   "name": "python",
   "nbconvert_exporter": "python",
   "pygments_lexer": "ipython3",
   "version": "3.8.16"
  }
 },
 "nbformat": 4,
 "nbformat_minor": 5
}
