{
 "cells": [
  {
   "cell_type": "markdown",
   "id": "7bf05e7e",
   "metadata": {},
   "source": [
    "# Baseline model for batch monitoring example"
   ]
  },
  {
   "cell_type": "code",
   "execution_count": 1,
   "id": "7320039b",
   "metadata": {},
   "outputs": [
    {
     "name": "stderr",
     "output_type": "stream",
     "text": [
      "/opt/anaconda3/envs/mlopszoomcamp/lib/python3.8/site-packages/umap/distances.py:1063: NumbaDeprecationWarning: \u001b[1mThe 'nopython' keyword argument was not supplied to the 'numba.jit' decorator. The implicit default value for this argument is currently False, but it will be changed to True in Numba 0.59.0. See https://numba.readthedocs.io/en/stable/reference/deprecation.html#deprecation-of-object-mode-fall-back-behaviour-when-using-jit for details.\u001b[0m\n",
      "  @numba.jit()\n",
      "/opt/anaconda3/envs/mlopszoomcamp/lib/python3.8/site-packages/umap/distances.py:1071: NumbaDeprecationWarning: \u001b[1mThe 'nopython' keyword argument was not supplied to the 'numba.jit' decorator. The implicit default value for this argument is currently False, but it will be changed to True in Numba 0.59.0. See https://numba.readthedocs.io/en/stable/reference/deprecation.html#deprecation-of-object-mode-fall-back-behaviour-when-using-jit for details.\u001b[0m\n",
      "  @numba.jit()\n",
      "/opt/anaconda3/envs/mlopszoomcamp/lib/python3.8/site-packages/umap/distances.py:1086: NumbaDeprecationWarning: \u001b[1mThe 'nopython' keyword argument was not supplied to the 'numba.jit' decorator. The implicit default value for this argument is currently False, but it will be changed to True in Numba 0.59.0. See https://numba.readthedocs.io/en/stable/reference/deprecation.html#deprecation-of-object-mode-fall-back-behaviour-when-using-jit for details.\u001b[0m\n",
      "  @numba.jit()\n",
      "/opt/anaconda3/envs/mlopszoomcamp/lib/python3.8/site-packages/umap/umap_.py:660: NumbaDeprecationWarning: \u001b[1mThe 'nopython' keyword argument was not supplied to the 'numba.jit' decorator. The implicit default value for this argument is currently False, but it will be changed to True in Numba 0.59.0. See https://numba.readthedocs.io/en/stable/reference/deprecation.html#deprecation-of-object-mode-fall-back-behaviour-when-using-jit for details.\u001b[0m\n",
      "  @numba.jit()\n"
     ]
    }
   ],
   "source": [
    "import requests\n",
    "import datetime\n",
    "import pandas as pd\n",
    "\n",
    "from evidently import ColumnMapping\n",
    "from evidently.report import Report\n",
    "from evidently.metrics import ColumnDriftMetric, DatasetDriftMetric, DatasetMissingValuesMetric, ColumnQuantileMetric\n",
    "\n",
    "from joblib import load, dump\n",
    "from tqdm import tqdm\n",
    "\n",
    "from sklearn.linear_model import LinearRegression\n",
    "from sklearn.metrics import mean_absolute_error, mean_absolute_percentage_error"
   ]
  },
  {
   "cell_type": "code",
   "execution_count": 2,
   "id": "ebcd8eb5",
   "metadata": {},
   "outputs": [
    {
     "name": "stdout",
     "output_type": "stream",
     "text": [
      "Download files:\n"
     ]
    },
    {
     "name": "stderr",
     "output_type": "stream",
     "text": [
      "green_tripdata_2023-03.parquet: 100%|███████████████████████████████████████████████████████████████| 1730999/1730999 [00:19<00:00, 87678.85it/s, save to ../data/green_taxi/green_tripdata_2023-03.parquet]\n"
     ]
    }
   ],
   "source": [
    "#files = [('green_tripdata_2022-02.parquet', '../data/green_taxi'), ('green_tripdata_2022-01.parquet', '../data/green_taxi')]\n",
    "files = [('green_tripdata_2023-03.parquet', '../data/green_taxi')]\n",
    "\n",
    "print(\"Download files:\")\n",
    "for file, path in files:\n",
    "    url=f\"https://d37ci6vzurychx.cloudfront.net/trip-data/{file}\"\n",
    "    resp=requests.get(url, stream=True)\n",
    "    save_path=f\"{path}/{file}\"\n",
    "    with open(save_path, \"wb\") as handle:\n",
    "        for data in tqdm(resp.iter_content(),\n",
    "                        desc=f\"{file}\",\n",
    "                        postfix=f\"save to {save_path}\",\n",
    "                        total=int(resp.headers[\"Content-Length\"])):\n",
    "            handle.write(data)"
   ]
  },
  {
   "cell_type": "code",
   "execution_count": 3,
   "id": "6735ae38",
   "metadata": {},
   "outputs": [],
   "source": [
    "mar_data = pd.read_parquet('../data/green_taxi/green_tripdata_2023-03.parquet')"
   ]
  },
  {
   "cell_type": "code",
   "execution_count": 4,
   "id": "29779686",
   "metadata": {},
   "outputs": [
    {
     "data": {
      "text/html": [
       "<div>\n",
       "<style scoped>\n",
       "    .dataframe tbody tr th:only-of-type {\n",
       "        vertical-align: middle;\n",
       "    }\n",
       "\n",
       "    .dataframe tbody tr th {\n",
       "        vertical-align: top;\n",
       "    }\n",
       "\n",
       "    .dataframe thead th {\n",
       "        text-align: right;\n",
       "    }\n",
       "</style>\n",
       "<table border=\"1\" class=\"dataframe\">\n",
       "  <thead>\n",
       "    <tr style=\"text-align: right;\">\n",
       "      <th></th>\n",
       "      <th>VendorID</th>\n",
       "      <th>RatecodeID</th>\n",
       "      <th>PULocationID</th>\n",
       "      <th>DOLocationID</th>\n",
       "      <th>passenger_count</th>\n",
       "      <th>trip_distance</th>\n",
       "      <th>fare_amount</th>\n",
       "      <th>extra</th>\n",
       "      <th>mta_tax</th>\n",
       "      <th>tip_amount</th>\n",
       "      <th>tolls_amount</th>\n",
       "      <th>ehail_fee</th>\n",
       "      <th>improvement_surcharge</th>\n",
       "      <th>total_amount</th>\n",
       "      <th>payment_type</th>\n",
       "      <th>trip_type</th>\n",
       "      <th>congestion_surcharge</th>\n",
       "    </tr>\n",
       "  </thead>\n",
       "  <tbody>\n",
       "    <tr>\n",
       "      <th>count</th>\n",
       "      <td>72044.000000</td>\n",
       "      <td>67507.000000</td>\n",
       "      <td>72044.000000</td>\n",
       "      <td>72044.000000</td>\n",
       "      <td>67507.000000</td>\n",
       "      <td>72044.000000</td>\n",
       "      <td>72044.000000</td>\n",
       "      <td>72044.000000</td>\n",
       "      <td>72044.000000</td>\n",
       "      <td>72044.000000</td>\n",
       "      <td>72044.000000</td>\n",
       "      <td>0.0</td>\n",
       "      <td>72044.000000</td>\n",
       "      <td>72044.000000</td>\n",
       "      <td>67507.000000</td>\n",
       "      <td>67500.000000</td>\n",
       "      <td>67507.000000</td>\n",
       "    </tr>\n",
       "    <tr>\n",
       "      <th>mean</th>\n",
       "      <td>1.865443</td>\n",
       "      <td>1.145703</td>\n",
       "      <td>98.437413</td>\n",
       "      <td>137.613556</td>\n",
       "      <td>1.286844</td>\n",
       "      <td>12.449511</td>\n",
       "      <td>17.018203</td>\n",
       "      <td>0.878109</td>\n",
       "      <td>0.576929</td>\n",
       "      <td>2.157651</td>\n",
       "      <td>0.183268</td>\n",
       "      <td>NaN</td>\n",
       "      <td>0.961604</td>\n",
       "      <td>22.292310</td>\n",
       "      <td>1.373680</td>\n",
       "      <td>1.028681</td>\n",
       "      <td>0.714837</td>\n",
       "    </tr>\n",
       "    <tr>\n",
       "      <th>std</th>\n",
       "      <td>0.341252</td>\n",
       "      <td>1.225735</td>\n",
       "      <td>60.481870</td>\n",
       "      <td>76.169705</td>\n",
       "      <td>0.923652</td>\n",
       "      <td>641.094653</td>\n",
       "      <td>13.832399</td>\n",
       "      <td>1.297642</td>\n",
       "      <td>0.384129</td>\n",
       "      <td>3.136215</td>\n",
       "      <td>1.139159</td>\n",
       "      <td>NaN</td>\n",
       "      <td>0.185185</td>\n",
       "      <td>15.852047</td>\n",
       "      <td>0.512307</td>\n",
       "      <td>0.166911</td>\n",
       "      <td>1.206435</td>\n",
       "    </tr>\n",
       "    <tr>\n",
       "      <th>min</th>\n",
       "      <td>1.000000</td>\n",
       "      <td>1.000000</td>\n",
       "      <td>1.000000</td>\n",
       "      <td>1.000000</td>\n",
       "      <td>0.000000</td>\n",
       "      <td>0.000000</td>\n",
       "      <td>-115.000000</td>\n",
       "      <td>-5.000000</td>\n",
       "      <td>-0.500000</td>\n",
       "      <td>-1.100000</td>\n",
       "      <td>0.000000</td>\n",
       "      <td>NaN</td>\n",
       "      <td>-1.000000</td>\n",
       "      <td>-116.000000</td>\n",
       "      <td>1.000000</td>\n",
       "      <td>1.000000</td>\n",
       "      <td>-2.750000</td>\n",
       "    </tr>\n",
       "    <tr>\n",
       "      <th>25%</th>\n",
       "      <td>2.000000</td>\n",
       "      <td>1.000000</td>\n",
       "      <td>74.000000</td>\n",
       "      <td>74.000000</td>\n",
       "      <td>1.000000</td>\n",
       "      <td>1.100000</td>\n",
       "      <td>9.300000</td>\n",
       "      <td>0.000000</td>\n",
       "      <td>0.500000</td>\n",
       "      <td>0.000000</td>\n",
       "      <td>0.000000</td>\n",
       "      <td>NaN</td>\n",
       "      <td>1.000000</td>\n",
       "      <td>12.980000</td>\n",
       "      <td>1.000000</td>\n",
       "      <td>1.000000</td>\n",
       "      <td>0.000000</td>\n",
       "    </tr>\n",
       "    <tr>\n",
       "      <th>50%</th>\n",
       "      <td>2.000000</td>\n",
       "      <td>1.000000</td>\n",
       "      <td>75.000000</td>\n",
       "      <td>138.000000</td>\n",
       "      <td>1.000000</td>\n",
       "      <td>1.840000</td>\n",
       "      <td>13.500000</td>\n",
       "      <td>0.000000</td>\n",
       "      <td>0.500000</td>\n",
       "      <td>1.600000</td>\n",
       "      <td>0.000000</td>\n",
       "      <td>NaN</td>\n",
       "      <td>1.000000</td>\n",
       "      <td>18.100000</td>\n",
       "      <td>1.000000</td>\n",
       "      <td>1.000000</td>\n",
       "      <td>0.000000</td>\n",
       "    </tr>\n",
       "    <tr>\n",
       "      <th>75%</th>\n",
       "      <td>2.000000</td>\n",
       "      <td>1.000000</td>\n",
       "      <td>129.000000</td>\n",
       "      <td>216.000000</td>\n",
       "      <td>1.000000</td>\n",
       "      <td>3.300000</td>\n",
       "      <td>20.000000</td>\n",
       "      <td>1.000000</td>\n",
       "      <td>0.500000</td>\n",
       "      <td>3.360000</td>\n",
       "      <td>0.000000</td>\n",
       "      <td>NaN</td>\n",
       "      <td>1.000000</td>\n",
       "      <td>26.730000</td>\n",
       "      <td>2.000000</td>\n",
       "      <td>1.000000</td>\n",
       "      <td>2.750000</td>\n",
       "    </tr>\n",
       "    <tr>\n",
       "      <th>max</th>\n",
       "      <td>2.000000</td>\n",
       "      <td>99.000000</td>\n",
       "      <td>265.000000</td>\n",
       "      <td>265.000000</td>\n",
       "      <td>9.000000</td>\n",
       "      <td>92064.680000</td>\n",
       "      <td>477.000000</td>\n",
       "      <td>12.500000</td>\n",
       "      <td>4.250000</td>\n",
       "      <td>270.270000</td>\n",
       "      <td>36.050000</td>\n",
       "      <td>NaN</td>\n",
       "      <td>1.000000</td>\n",
       "      <td>478.000000</td>\n",
       "      <td>5.000000</td>\n",
       "      <td>2.000000</td>\n",
       "      <td>2.750000</td>\n",
       "    </tr>\n",
       "  </tbody>\n",
       "</table>\n",
       "</div>"
      ],
      "text/plain": [
       "           VendorID    RatecodeID  PULocationID  DOLocationID  \\\n",
       "count  72044.000000  67507.000000  72044.000000  72044.000000   \n",
       "mean       1.865443      1.145703     98.437413    137.613556   \n",
       "std        0.341252      1.225735     60.481870     76.169705   \n",
       "min        1.000000      1.000000      1.000000      1.000000   \n",
       "25%        2.000000      1.000000     74.000000     74.000000   \n",
       "50%        2.000000      1.000000     75.000000    138.000000   \n",
       "75%        2.000000      1.000000    129.000000    216.000000   \n",
       "max        2.000000     99.000000    265.000000    265.000000   \n",
       "\n",
       "       passenger_count  trip_distance   fare_amount         extra  \\\n",
       "count     67507.000000   72044.000000  72044.000000  72044.000000   \n",
       "mean          1.286844      12.449511     17.018203      0.878109   \n",
       "std           0.923652     641.094653     13.832399      1.297642   \n",
       "min           0.000000       0.000000   -115.000000     -5.000000   \n",
       "25%           1.000000       1.100000      9.300000      0.000000   \n",
       "50%           1.000000       1.840000     13.500000      0.000000   \n",
       "75%           1.000000       3.300000     20.000000      1.000000   \n",
       "max           9.000000   92064.680000    477.000000     12.500000   \n",
       "\n",
       "            mta_tax    tip_amount  tolls_amount  ehail_fee  \\\n",
       "count  72044.000000  72044.000000  72044.000000        0.0   \n",
       "mean       0.576929      2.157651      0.183268        NaN   \n",
       "std        0.384129      3.136215      1.139159        NaN   \n",
       "min       -0.500000     -1.100000      0.000000        NaN   \n",
       "25%        0.500000      0.000000      0.000000        NaN   \n",
       "50%        0.500000      1.600000      0.000000        NaN   \n",
       "75%        0.500000      3.360000      0.000000        NaN   \n",
       "max        4.250000    270.270000     36.050000        NaN   \n",
       "\n",
       "       improvement_surcharge  total_amount  payment_type     trip_type  \\\n",
       "count           72044.000000  72044.000000  67507.000000  67500.000000   \n",
       "mean                0.961604     22.292310      1.373680      1.028681   \n",
       "std                 0.185185     15.852047      0.512307      0.166911   \n",
       "min                -1.000000   -116.000000      1.000000      1.000000   \n",
       "25%                 1.000000     12.980000      1.000000      1.000000   \n",
       "50%                 1.000000     18.100000      1.000000      1.000000   \n",
       "75%                 1.000000     26.730000      2.000000      1.000000   \n",
       "max                 1.000000    478.000000      5.000000      2.000000   \n",
       "\n",
       "       congestion_surcharge  \n",
       "count          67507.000000  \n",
       "mean               0.714837  \n",
       "std                1.206435  \n",
       "min               -2.750000  \n",
       "25%                0.000000  \n",
       "50%                0.000000  \n",
       "75%                2.750000  \n",
       "max                2.750000  "
      ]
     },
     "execution_count": 4,
     "metadata": {},
     "output_type": "execute_result"
    }
   ],
   "source": [
    "mar_data.describe() # Q1: 72044 lines"
   ]
  },
  {
   "cell_type": "code",
   "execution_count": 5,
   "id": "b44c37b2",
   "metadata": {},
   "outputs": [
    {
     "data": {
      "text/plain": [
       "(72044, 20)"
      ]
     },
     "execution_count": 5,
     "metadata": {},
     "output_type": "execute_result"
    }
   ],
   "source": [
    "mar_data.shape # Q1: 72044 lines"
   ]
  },
  {
   "cell_type": "code",
   "execution_count": 6,
   "id": "f2934d16",
   "metadata": {},
   "outputs": [],
   "source": [
    "# create target\n",
    "mar_data[\"duration_min\"] = mar_data.lpep_dropoff_datetime - mar_data.lpep_pickup_datetime\n",
    "mar_data.duration_min = mar_data.duration_min.apply(lambda td : float(td.total_seconds())/60)"
   ]
  },
  {
   "cell_type": "code",
   "execution_count": 7,
   "id": "63210877",
   "metadata": {},
   "outputs": [],
   "source": [
    "# filter out outliers\n",
    "mar_data = mar_data[(mar_data.duration_min >= 0) & (mar_data.duration_min <= 60)]\n",
    "mar_data = mar_data[(mar_data.passenger_count > 0) & (mar_data.passenger_count <= 8)]"
   ]
  },
  {
   "cell_type": "code",
   "execution_count": 8,
   "id": "56b31a22",
   "metadata": {},
   "outputs": [
    {
     "data": {
      "text/plain": [
       "<Axes: >"
      ]
     },
     "execution_count": 8,
     "metadata": {},
     "output_type": "execute_result"
    },
    {
     "data": {
      "image/png": "[encoded data removed]",
      "text/plain": [
       "<Figure size 640x480 with 1 Axes>"
      ]
     },
     "metadata": {},
     "output_type": "display_data"
    }
   ],
   "source": [
    "mar_data.duration_min.hist()"
   ]
  },
  {
   "cell_type": "code",
   "execution_count": 9,
   "id": "e40dff98",
   "metadata": {},
   "outputs": [],
   "source": [
    "# data labeling\n",
    "target = \"duration_min\"\n",
    "num_features = [\"passenger_count\", \"trip_distance\", \"fare_amount\", \"total_amount\"]\n",
    "cat_features = [\"PULocationID\", \"DOLocationID\"]"
   ]
  },
  {
   "cell_type": "code",
   "execution_count": 10,
   "id": "bc0c22a5",
   "metadata": {},
   "outputs": [
    {
     "data": {
      "text/plain": [
       "(66255, 21)"
      ]
     },
     "execution_count": 10,
     "metadata": {},
     "output_type": "execute_result"
    }
   ],
   "source": [
    "mar_data.shape"
   ]
  },
  {
   "cell_type": "code",
   "execution_count": 11,
   "id": "05a265a0",
   "metadata": {},
   "outputs": [],
   "source": [
    "train_data = mar_data[:30000]\n",
    "val_data = mar_data[30000:]"
   ]
  },
  {
   "cell_type": "code",
   "execution_count": 12,
   "id": "e9fb4fc9",
   "metadata": {},
   "outputs": [],
   "source": [
    "model = LinearRegression()"
   ]
  },
  {
   "cell_type": "code",
   "execution_count": 13,
   "id": "0baed5ae",
   "metadata": {},
   "outputs": [
    {
     "data": {
      "text/html": [
       "<style>#sk-container-id-1 {color: black;background-color: white;}#sk-container-id-1 pre{padding: 0;}#sk-container-id-1 div.sk-toggleable {background-color: white;}#sk-container-id-1 label.sk-toggleable__label {cursor: pointer;display: block;width: 100%;margin-bottom: 0;padding: 0.3em;box-sizing: border-box;text-align: center;}#sk-container-id-1 label.sk-toggleable__label-arrow:before {content: \"▸\";float: left;margin-right: 0.25em;color: #696969;}#sk-container-id-1 label.sk-toggleable__label-arrow:hover:before {color: black;}#sk-container-id-1 div.sk-estimator:hover label.sk-toggleable__label-arrow:before {color: black;}#sk-container-id-1 div.sk-toggleable__content {max-height: 0;max-width: 0;overflow: hidden;text-align: left;background-color: #f0f8ff;}#sk-container-id-1 div.sk-toggleable__content pre {margin: 0.2em;color: black;border-radius: 0.25em;background-color: #f0f8ff;}#sk-container-id-1 input.sk-toggleable__control:checked~div.sk-toggleable__content {max-height: 200px;max-width: 100%;overflow: auto;}#sk-container-id-1 input.sk-toggleable__control:checked~label.sk-toggleable__label-arrow:before {content: \"▾\";}#sk-container-id-1 div.sk-estimator input.sk-toggleable__control:checked~label.sk-toggleable__label {background-color: #d4ebff;}#sk-container-id-1 div.sk-label input.sk-toggleable__control:checked~label.sk-toggleable__label {background-color: #d4ebff;}#sk-container-id-1 input.sk-hidden--visually {border: 0;clip: rect(1px 1px 1px 1px);clip: rect(1px, 1px, 1px, 1px);height: 1px;margin: -1px;overflow: hidden;padding: 0;position: absolute;width: 1px;}#sk-container-id-1 div.sk-estimator {font-family: monospace;background-color: #f0f8ff;border: 1px dotted black;border-radius: 0.25em;box-sizing: border-box;margin-bottom: 0.5em;}#sk-container-id-1 div.sk-estimator:hover {background-color: #d4ebff;}#sk-container-id-1 div.sk-parallel-item::after {content: \"\";width: 100%;border-bottom: 1px solid gray;flex-grow: 1;}#sk-container-id-1 div.sk-label:hover label.sk-toggleable__label {background-color: #d4ebff;}#sk-container-id-1 div.sk-serial::before {content: \"\";position: absolute;border-left: 1px solid gray;box-sizing: border-box;top: 0;bottom: 0;left: 50%;z-index: 0;}#sk-container-id-1 div.sk-serial {display: flex;flex-direction: column;align-items: center;background-color: white;padding-right: 0.2em;padding-left: 0.2em;position: relative;}#sk-container-id-1 div.sk-item {position: relative;z-index: 1;}#sk-container-id-1 div.sk-parallel {display: flex;align-items: stretch;justify-content: center;background-color: white;position: relative;}#sk-container-id-1 div.sk-item::before, #sk-container-id-1 div.sk-parallel-item::before {content: \"\";position: absolute;border-left: 1px solid gray;box-sizing: border-box;top: 0;bottom: 0;left: 50%;z-index: -1;}#sk-container-id-1 div.sk-parallel-item {display: flex;flex-direction: column;z-index: 1;position: relative;background-color: white;}#sk-container-id-1 div.sk-parallel-item:first-child::after {align-self: flex-end;width: 50%;}#sk-container-id-1 div.sk-parallel-item:last-child::after {align-self: flex-start;width: 50%;}#sk-container-id-1 div.sk-parallel-item:only-child::after {width: 0;}#sk-container-id-1 div.sk-dashed-wrapped {border: 1px dashed gray;margin: 0 0.4em 0.5em 0.4em;box-sizing: border-box;padding-bottom: 0.4em;background-color: white;}#sk-container-id-1 div.sk-label label {font-family: monospace;font-weight: bold;display: inline-block;line-height: 1.2em;}#sk-container-id-1 div.sk-label-container {text-align: center;}#sk-container-id-1 div.sk-container {/* jupyter's `normalize.less` sets `[hidden] { display: none; }` but bootstrap.min.css set `[hidden] { display: none !important; }` so we also need the `!important` here to be able to override the default hidden behavior on the sphinx rendered scikit-learn.org. See: https://github.com/scikit-learn/scikit-learn/issues/21755 */display: inline-block !important;position: relative;}#sk-container-id-1 div.sk-text-repr-fallback {display: none;}</style><div id=\"sk-container-id-1\" class=\"sk-top-container\"><div class=\"sk-text-repr-fallback\"><pre>LinearRegression()</pre><b>In a Jupyter environment, please rerun this cell to show the HTML representation or trust the notebook. <br />On GitHub, the HTML representation is unable to render, please try loading this page with nbviewer.org.</b></div><div class=\"sk-container\" hidden><div class=\"sk-item\"><div class=\"sk-estimator sk-toggleable\"><input class=\"sk-toggleable__control sk-hidden--visually\" id=\"sk-estimator-id-1\" type=\"checkbox\" checked><label for=\"sk-estimator-id-1\" class=\"sk-toggleable__label sk-toggleable__label-arrow\">LinearRegression</label><div class=\"sk-toggleable__content\"><pre>LinearRegression()</pre></div></div></div></div></div>"
      ],
      "text/plain": [
       "LinearRegression()"
      ]
     },
     "execution_count": 13,
     "metadata": {},
     "output_type": "execute_result"
    }
   ],
   "source": [
    "model.fit(train_data[num_features + cat_features], train_data[target])"
   ]
  },
  {
   "cell_type": "code",
   "execution_count": 14,
   "id": "c1fa3c38",
   "metadata": {},
   "outputs": [],
   "source": [
    "train_preds = model.predict(train_data[num_features + cat_features])\n",
    "train_data['prediction'] = train_preds"
   ]
  },
  {
   "cell_type": "code",
   "execution_count": 15,
   "id": "84293b52",
   "metadata": {},
   "outputs": [],
   "source": [
    "val_preds = model.predict(val_data[num_features + cat_features])\n",
    "val_data['prediction'] = val_preds"
   ]
  },
  {
   "cell_type": "code",
   "execution_count": 16,
   "id": "0af9d288",
   "metadata": {},
   "outputs": [
    {
     "name": "stdout",
     "output_type": "stream",
     "text": [
      "3.564175957106492\n",
      "3.646951695051199\n"
     ]
    }
   ],
   "source": [
    "print(mean_absolute_error(train_data.duration_min, train_data.prediction))\n",
    "print(mean_absolute_error(val_data.duration_min, val_data.prediction))"
   ]
  },
  {
   "cell_type": "markdown",
   "id": "fc441899",
   "metadata": {},
   "source": [
    "# Dump model and reference data"
   ]
  },
  {
   "cell_type": "code",
   "execution_count": 17,
   "id": "dfb4068b",
   "metadata": {},
   "outputs": [],
   "source": [
    "with open('../models/lin_reg.bin', 'wb') as f_out:\n",
    "    dump(model, f_out)"
   ]
  },
  {
   "cell_type": "code",
   "execution_count": 18,
   "id": "a1aa065f",
   "metadata": {},
   "outputs": [],
   "source": [
    "val_data.to_parquet('../data/reference.parquet')"
   ]
  },
  {
   "cell_type": "markdown",
   "id": "a195b327",
   "metadata": {},
   "source": [
    "# Evidently Report"
   ]
  },
  {
   "cell_type": "code",
   "execution_count": 19,
   "id": "56403137",
   "metadata": {},
   "outputs": [],
   "source": [
    "column_mapping = ColumnMapping(\n",
    "    target=None,\n",
    "    prediction='prediction',\n",
    "    numerical_features=num_features,\n",
    "    categorical_features=cat_features\n",
    ")"
   ]
  },
  {
   "cell_type": "code",
   "execution_count": 20,
   "id": "36bf31c2",
   "metadata": {},
   "outputs": [],
   "source": [
    "report = Report(metrics=[\n",
    "    ColumnDriftMetric(column_name='prediction'),\n",
    "    DatasetDriftMetric(),\n",
    "    DatasetMissingValuesMetric(),\n",
    "    ColumnQuantileMetric(column_name='fare_amount', quantile=0.5) # Q2: ColumnQuantileMetric\n",
    "]\n",
    ")"
   ]
  },
  {
   "cell_type": "code",
   "execution_count": 21,
   "id": "996eb8b8",
   "metadata": {},
   "outputs": [],
   "source": [
    "report.run(reference_data=train_data, current_data=val_data, column_mapping=column_mapping)"
   ]
  },
  {
   "cell_type": "code",
   "execution_count": 22,
   "id": "3e7aaea2",
   "metadata": {
    "scrolled": false
   },
   "outputs": [],
   "source": [
    "#report.show(mode='inline')"
   ]
  },
  {
   "cell_type": "code",
   "execution_count": 23,
   "id": "397adec5",
   "metadata": {},
   "outputs": [],
   "source": [
    "result = report.as_dict()"
   ]
  },
  {
   "cell_type": "code",
   "execution_count": 24,
   "id": "84c99580",
   "metadata": {
    "scrolled": true
   },
   "outputs": [
    {
     "data": {
      "text/plain": [
       "{'metrics': [{'metric': 'ColumnDriftMetric',\n",
       "   'result': {'column_name': 'prediction',\n",
       "    'column_type': 'num',\n",
       "    'stattest_name': 'Wasserstein distance (normed)',\n",
       "    'stattest_threshold': 0.1,\n",
       "    'drift_score': 0.021912744737353454,\n",
       "    'drift_detected': False,\n",
       "    'current': {'small_distribution': {'x': [-29.976938687069932,\n",
       "       -6.360433663687477,\n",
       "       17.256071359694978,\n",
       "       40.87257638307743,\n",
       "       64.48908140645989,\n",
       "       88.10558642984235,\n",
       "       111.72209145322479,\n",
       "       135.33859647660728,\n",
       "       158.95510149998972,\n",
       "       182.57160652337217,\n",
       "       206.1881115467546],\n",
       "      'y': [9.343432451141222e-06,\n",
       "       0.0344305485824554,\n",
       "       0.007515623477886722,\n",
       "       0.00034570700069222514,\n",
       "       2.335858112785305e-05,\n",
       "       8.175503394748573e-06,\n",
       "       5.839645281963255e-06,\n",
       "       1.1679290563926532e-06,\n",
       "       2.3358581127853063e-06,\n",
       "       1.1679290563926532e-06]}},\n",
       "    'reference': {'small_distribution': {'x': [-44.794580269945925,\n",
       "       -20.70570087291121,\n",
       "       3.383178524123508,\n",
       "       27.472057921158225,\n",
       "       51.56093731819294,\n",
       "       75.64981671522766,\n",
       "       99.73869611226237,\n",
       "       123.8275755092971,\n",
       "       147.9164549063318,\n",
       "       172.0053343033665,\n",
       "       196.09421370040124],\n",
       "      'y': [1.5221408211782672e-05,\n",
       "       0.0001065498574824787,\n",
       "       0.03960887169582429,\n",
       "       0.0016729711389132046,\n",
       "       7.610704105891336e-05,\n",
       "       2.490775889200801e-05,\n",
       "       2.767528765778666e-06,\n",
       "       2.767528765778669e-06,\n",
       "       1.3837643828893346e-06,\n",
       "       1.383764382889333e-06]}}}},\n",
       "  {'metric': 'DatasetDriftMetric',\n",
       "   'result': {'drift_share': 0.5,\n",
       "    'number_of_columns': 7,\n",
       "    'number_of_drifted_columns': 0,\n",
       "    'share_of_drifted_columns': 0.0,\n",
       "    'dataset_drift': False}},\n",
       "  {'metric': 'DatasetMissingValuesMetric',\n",
       "   'result': {'current': {'different_missing_values': {'': 0,\n",
       "      -inf: 0,\n",
       "      None: 36257,\n",
       "      inf: 0},\n",
       "     'number_of_different_missing_values': 1,\n",
       "     'different_missing_values_by_column': {'VendorID': {'': 0,\n",
       "       -inf: 0,\n",
       "       None: 0,\n",
       "       inf: 0},\n",
       "      'lpep_pickup_datetime': {'': 0, -inf: 0, None: 0, inf: 0},\n",
       "      'lpep_dropoff_datetime': {'': 0, -inf: 0, None: 0, inf: 0},\n",
       "      'store_and_fwd_flag': {'': 0, -inf: 0, None: 0, inf: 0},\n",
       "      'RatecodeID': {'': 0, -inf: 0, None: 0, inf: 0},\n",
       "      'PULocationID': {'': 0, -inf: 0, None: 0, inf: 0},\n",
       "      'DOLocationID': {'': 0, -inf: 0, None: 0, inf: 0},\n",
       "      'passenger_count': {'': 0, -inf: 0, None: 0, inf: 0},\n",
       "      'trip_distance': {'': 0, -inf: 0, None: 0, inf: 0},\n",
       "      'fare_amount': {'': 0, -inf: 0, None: 0, inf: 0},\n",
       "      'extra': {'': 0, -inf: 0, None: 0, inf: 0},\n",
       "      'mta_tax': {'': 0, -inf: 0, None: 0, inf: 0},\n",
       "      'tip_amount': {'': 0, -inf: 0, None: 0, inf: 0},\n",
       "      'tolls_amount': {'': 0, -inf: 0, None: 0, inf: 0},\n",
       "      'ehail_fee': {'': 0, -inf: 0, None: 36255, inf: 0},\n",
       "      'improvement_surcharge': {'': 0, -inf: 0, None: 0, inf: 0},\n",
       "      'total_amount': {'': 0, -inf: 0, None: 0, inf: 0},\n",
       "      'payment_type': {'': 0, -inf: 0, None: 0, inf: 0},\n",
       "      'trip_type': {'': 0, -inf: 0, None: 2, inf: 0},\n",
       "      'congestion_surcharge': {'': 0, -inf: 0, None: 0, inf: 0},\n",
       "      'duration_min': {'': 0, -inf: 0, None: 0, inf: 0},\n",
       "      'prediction': {'': 0, -inf: 0, None: 0, inf: 0}},\n",
       "     'number_of_different_missing_values_by_column': {'VendorID': 0,\n",
       "      'lpep_pickup_datetime': 0,\n",
       "      'lpep_dropoff_datetime': 0,\n",
       "      'store_and_fwd_flag': 0,\n",
       "      'RatecodeID': 0,\n",
       "      'PULocationID': 0,\n",
       "      'DOLocationID': 0,\n",
       "      'passenger_count': 0,\n",
       "      'trip_distance': 0,\n",
       "      'fare_amount': 0,\n",
       "      'extra': 0,\n",
       "      'mta_tax': 0,\n",
       "      'tip_amount': 0,\n",
       "      'tolls_amount': 0,\n",
       "      'ehail_fee': 1,\n",
       "      'improvement_surcharge': 0,\n",
       "      'total_amount': 0,\n",
       "      'payment_type': 0,\n",
       "      'trip_type': 1,\n",
       "      'congestion_surcharge': 0,\n",
       "      'duration_min': 0,\n",
       "      'prediction': 0},\n",
       "     'number_of_missing_values': 36257,\n",
       "     'share_of_missing_values': 0.0454570529456752,\n",
       "     'number_of_missing_values_by_column': {'VendorID': 0,\n",
       "      'lpep_pickup_datetime': 0,\n",
       "      'lpep_dropoff_datetime': 0,\n",
       "      'store_and_fwd_flag': 0,\n",
       "      'RatecodeID': 0,\n",
       "      'PULocationID': 0,\n",
       "      'DOLocationID': 0,\n",
       "      'passenger_count': 0,\n",
       "      'trip_distance': 0,\n",
       "      'fare_amount': 0,\n",
       "      'extra': 0,\n",
       "      'mta_tax': 0,\n",
       "      'tip_amount': 0,\n",
       "      'tolls_amount': 0,\n",
       "      'ehail_fee': 36255,\n",
       "      'improvement_surcharge': 0,\n",
       "      'total_amount': 0,\n",
       "      'payment_type': 0,\n",
       "      'trip_type': 2,\n",
       "      'congestion_surcharge': 0,\n",
       "      'duration_min': 0,\n",
       "      'prediction': 0},\n",
       "     'share_of_missing_values_by_column': {'VendorID': 0.0,\n",
       "      'lpep_pickup_datetime': 0.0,\n",
       "      'lpep_dropoff_datetime': 0.0,\n",
       "      'store_and_fwd_flag': 0.0,\n",
       "      'RatecodeID': 0.0,\n",
       "      'PULocationID': 0.0,\n",
       "      'DOLocationID': 0.0,\n",
       "      'passenger_count': 0.0,\n",
       "      'trip_distance': 0.0,\n",
       "      'fare_amount': 0.0,\n",
       "      'extra': 0.0,\n",
       "      'mta_tax': 0.0,\n",
       "      'tip_amount': 0.0,\n",
       "      'tolls_amount': 0.0,\n",
       "      'ehail_fee': 1.0,\n",
       "      'improvement_surcharge': 0.0,\n",
       "      'total_amount': 0.0,\n",
       "      'payment_type': 0.0,\n",
       "      'trip_type': 5.5164804854502824e-05,\n",
       "      'congestion_surcharge': 0.0,\n",
       "      'duration_min': 0.0,\n",
       "      'prediction': 0.0},\n",
       "     'number_of_rows': 36255,\n",
       "     'number_of_rows_with_missing_values': 36255,\n",
       "     'share_of_rows_with_missing_values': 1.0,\n",
       "     'number_of_columns': 22,\n",
       "     'columns_with_missing_values': ['ehail_fee', 'trip_type'],\n",
       "     'number_of_columns_with_missing_values': 2,\n",
       "     'share_of_columns_with_missing_values': 0.09090909090909091},\n",
       "    'reference': {'different_missing_values': {'': 0,\n",
       "      -inf: 0,\n",
       "      None: 30000,\n",
       "      inf: 0},\n",
       "     'number_of_different_missing_values': 1,\n",
       "     'different_missing_values_by_column': {'VendorID': {'': 0,\n",
       "       -inf: 0,\n",
       "       None: 0,\n",
       "       inf: 0},\n",
       "      'lpep_pickup_datetime': {'': 0, -inf: 0, None: 0, inf: 0},\n",
       "      'lpep_dropoff_datetime': {'': 0, -inf: 0, None: 0, inf: 0},\n",
       "      'store_and_fwd_flag': {'': 0, -inf: 0, None: 0, inf: 0},\n",
       "      'RatecodeID': {'': 0, -inf: 0, None: 0, inf: 0},\n",
       "      'PULocationID': {'': 0, -inf: 0, None: 0, inf: 0},\n",
       "      'DOLocationID': {'': 0, -inf: 0, None: 0, inf: 0},\n",
       "      'passenger_count': {'': 0, -inf: 0, None: 0, inf: 0},\n",
       "      'trip_distance': {'': 0, -inf: 0, None: 0, inf: 0},\n",
       "      'fare_amount': {'': 0, -inf: 0, None: 0, inf: 0},\n",
       "      'extra': {'': 0, -inf: 0, None: 0, inf: 0},\n",
       "      'mta_tax': {'': 0, -inf: 0, None: 0, inf: 0},\n",
       "      'tip_amount': {'': 0, -inf: 0, None: 0, inf: 0},\n",
       "      'tolls_amount': {'': 0, -inf: 0, None: 0, inf: 0},\n",
       "      'ehail_fee': {'': 0, -inf: 0, None: 30000, inf: 0},\n",
       "      'improvement_surcharge': {'': 0, -inf: 0, None: 0, inf: 0},\n",
       "      'total_amount': {'': 0, -inf: 0, None: 0, inf: 0},\n",
       "      'payment_type': {'': 0, -inf: 0, None: 0, inf: 0},\n",
       "      'trip_type': {'': 0, -inf: 0, None: 0, inf: 0},\n",
       "      'congestion_surcharge': {'': 0, -inf: 0, None: 0, inf: 0},\n",
       "      'duration_min': {'': 0, -inf: 0, None: 0, inf: 0},\n",
       "      'prediction': {'': 0, -inf: 0, None: 0, inf: 0}},\n",
       "     'number_of_different_missing_values_by_column': {'VendorID': 0,\n",
       "      'lpep_pickup_datetime': 0,\n",
       "      'lpep_dropoff_datetime': 0,\n",
       "      'store_and_fwd_flag': 0,\n",
       "      'RatecodeID': 0,\n",
       "      'PULocationID': 0,\n",
       "      'DOLocationID': 0,\n",
       "      'passenger_count': 0,\n",
       "      'trip_distance': 0,\n",
       "      'fare_amount': 0,\n",
       "      'extra': 0,\n",
       "      'mta_tax': 0,\n",
       "      'tip_amount': 0,\n",
       "      'tolls_amount': 0,\n",
       "      'ehail_fee': 1,\n",
       "      'improvement_surcharge': 0,\n",
       "      'total_amount': 0,\n",
       "      'payment_type': 0,\n",
       "      'trip_type': 0,\n",
       "      'congestion_surcharge': 0,\n",
       "      'duration_min': 0,\n",
       "      'prediction': 0},\n",
       "     'number_of_missing_values': 30000,\n",
       "     'share_of_missing_values': 0.045454545454545456,\n",
       "     'number_of_missing_values_by_column': {'VendorID': 0,\n",
       "      'lpep_pickup_datetime': 0,\n",
       "      'lpep_dropoff_datetime': 0,\n",
       "      'store_and_fwd_flag': 0,\n",
       "      'RatecodeID': 0,\n",
       "      'PULocationID': 0,\n",
       "      'DOLocationID': 0,\n",
       "      'passenger_count': 0,\n",
       "      'trip_distance': 0,\n",
       "      'fare_amount': 0,\n",
       "      'extra': 0,\n",
       "      'mta_tax': 0,\n",
       "      'tip_amount': 0,\n",
       "      'tolls_amount': 0,\n",
       "      'ehail_fee': 30000,\n",
       "      'improvement_surcharge': 0,\n",
       "      'total_amount': 0,\n",
       "      'payment_type': 0,\n",
       "      'trip_type': 0,\n",
       "      'congestion_surcharge': 0,\n",
       "      'duration_min': 0,\n",
       "      'prediction': 0},\n",
       "     'share_of_missing_values_by_column': {'VendorID': 0.0,\n",
       "      'lpep_pickup_datetime': 0.0,\n",
       "      'lpep_dropoff_datetime': 0.0,\n",
       "      'store_and_fwd_flag': 0.0,\n",
       "      'RatecodeID': 0.0,\n",
       "      'PULocationID': 0.0,\n",
       "      'DOLocationID': 0.0,\n",
       "      'passenger_count': 0.0,\n",
       "      'trip_distance': 0.0,\n",
       "      'fare_amount': 0.0,\n",
       "      'extra': 0.0,\n",
       "      'mta_tax': 0.0,\n",
       "      'tip_amount': 0.0,\n",
       "      'tolls_amount': 0.0,\n",
       "      'ehail_fee': 1.0,\n",
       "      'improvement_surcharge': 0.0,\n",
       "      'total_amount': 0.0,\n",
       "      'payment_type': 0.0,\n",
       "      'trip_type': 0.0,\n",
       "      'congestion_surcharge': 0.0,\n",
       "      'duration_min': 0.0,\n",
       "      'prediction': 0.0},\n",
       "     'number_of_rows': 30000,\n",
       "     'number_of_rows_with_missing_values': 30000,\n",
       "     'share_of_rows_with_missing_values': 1.0,\n",
       "     'number_of_columns': 22,\n",
       "     'columns_with_missing_values': ['ehail_fee'],\n",
       "     'number_of_columns_with_missing_values': 1,\n",
       "     'share_of_columns_with_missing_values': 0.045454545454545456}}},\n",
       "  {'metric': 'ColumnQuantileMetric',\n",
       "   'result': {'column_name': 'fare_amount',\n",
       "    'column_type': 'num',\n",
       "    'quantile': 0.5,\n",
       "    'current': {'value': 12.8},\n",
       "    'reference': {'value': 12.8}}}]}"
      ]
     },
     "execution_count": 24,
     "metadata": {},
     "output_type": "execute_result"
    }
   ],
   "source": [
    "result"
   ]
  },
  {
   "cell_type": "code",
   "execution_count": 25,
   "id": "7fa07745",
   "metadata": {},
   "outputs": [
    {
     "data": {
      "text/plain": [
       "0.021912744737353454"
      ]
     },
     "execution_count": 25,
     "metadata": {},
     "output_type": "execute_result"
    }
   ],
   "source": [
    "#prediction drift\n",
    "result['metrics'][0]['result']['drift_score']"
   ]
  },
  {
   "cell_type": "code",
   "execution_count": 26,
   "id": "e1c8f836",
   "metadata": {},
   "outputs": [
    {
     "data": {
      "text/plain": [
       "0"
      ]
     },
     "execution_count": 26,
     "metadata": {},
     "output_type": "execute_result"
    }
   ],
   "source": [
    "#number of drifted columns\n",
    "result['metrics'][1]['result']['number_of_drifted_columns']"
   ]
  },
  {
   "cell_type": "code",
   "execution_count": 27,
   "id": "71c07269",
   "metadata": {},
   "outputs": [
    {
     "data": {
      "text/plain": [
       "0.0454570529456752"
      ]
     },
     "execution_count": 27,
     "metadata": {},
     "output_type": "execute_result"
    }
   ],
   "source": [
    "#share of missing values\n",
    "result['metrics'][2]['result']['current']['share_of_missing_values']"
   ]
  },
  {
   "cell_type": "code",
   "execution_count": 29,
   "id": "573533d5",
   "metadata": {},
   "outputs": [
    {
     "data": {
      "text/plain": [
       "12.8"
      ]
     },
     "execution_count": 29,
     "metadata": {},
     "output_type": "execute_result"
    }
   ],
   "source": [
    "#column quantile metric\n",
    "result['metrics'][3]['result']['current']['value']"
   ]
  },
  {
   "cell_type": "code",
   "execution_count": null,
   "id": "6c149399",
   "metadata": {},
   "outputs": [],
   "source": []
  }
 ],
 "metadata": {
  "kernelspec": {
   "display_name": "Python 3 (ipykernel)",
   "language": "python",
   "name": "python3"
  },
  "language_info": {
   "codemirror_mode": {
    "name": "ipython",
    "version": 3
   },
   "file_extension": ".py",
   "mimetype": "text/x-python",
   "name": "python",
   "nbconvert_exporter": "python",
   "pygments_lexer": "ipython3",
   "version": "3.8.16"
  }
 },
 "nbformat": 4,
 "nbformat_minor": 5
}
